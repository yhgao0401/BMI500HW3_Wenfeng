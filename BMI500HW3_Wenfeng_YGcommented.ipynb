{
 "cells": [
  {
   "cell_type": "code",
   "execution_count": 1,
   "metadata": {
    "id": "TZf1nEV0a7Qb"
   },
   "outputs": [],
   "source": [
    "import math\n",
    "import numpy as np\n",
    "import time\n",
    "import matplotlib.pyplot as plt"
   ]
  },
  {
   "cell_type": "markdown",
   "metadata": {
    "id": "Cj-2AZZYbvkJ"
   },
   "source": [
    "Problem 1. Write a function in Python 3.x that, given an integer n, returns the sum of the first n terms of the series in the Leibniz formula."
   ]
  },
  {
   "cell_type": "code",
   "execution_count": 2,
   "metadata": {
    "id": "qqZyPoJubx0R"
   },
   "outputs": [],
   "source": [
    "def calculate_leibniz_sum(n: int) -> float:\n",
    "  total_sum = 0.0\n",
    "  for k in range(n):\n",
    "    term = ((-1)**k) / (2 * k + 1)\n",
    "    total_sum += term\n",
    "  return total_sum"
   ]
  },
  {
   "cell_type": "markdown",
   "metadata": {
    "id": "YoDzpK9ccZNg"
   },
   "source": [
    "Problem 2. For each of the following items, write a function in Python 3.x that, given an integer n, returns the sum of the first n terms of the series in the Leibniz formula."
   ]
  },
  {
   "cell_type": "code",
   "execution_count": 3,
   "metadata": {
    "id": "mf_cN4QpchZt"
   },
   "outputs": [],
   "source": [
    "#a. Use a for-loop and an if-statement with the modulo operator % to determine whether to add or subtract each term.\n",
    "def leibniz_a(n):\n",
    "    total = 0.0\n",
    "    for k in range(n):\n",
    "        denominator = 2 * k + 1\n",
    "        if k % 2 == 0:\n",
    "            total += 1 / denominator\n",
    "        else:\n",
    "            total -= 1 / denominator\n",
    "    return total"
   ]
  },
  {
   "cell_type": "code",
   "execution_count": 4,
   "metadata": {
    "id": "yeaQxLIlciv_"
   },
   "outputs": [],
   "source": [
    "#b. Use a for-loop with the quantity (-1)**n to determine whether to add or subtract each term.\n",
    "def leibniz_b(n):\n",
    "    total = 0.0\n",
    "    for k in range(n):\n",
    "        term = (-1) ** k / (2 * k + 1)\n",
    "        total += term\n",
    "    return total"
   ]
  },
  {
   "cell_type": "code",
   "execution_count": 5,
   "metadata": {
    "id": "djeN-Oxmcvv8"
   },
   "outputs": [],
   "source": [
    "#c. Construct a Python list and compute the sum of the terms in the list.\n",
    "def leibniz_c(n):\n",
    "    terms = []\n",
    "    for k in range(n):\n",
    "        term = (-1) ** k / (2 * k + 1)\n",
    "        terms.append(term)\n",
    "    return sum(terms)"
   ]
  },
  {
   "cell_type": "code",
   "execution_count": 6,
   "metadata": {
    "id": "8ZW857gBdWTM"
   },
   "outputs": [],
   "source": [
    "#d. Construct a Python set and compute the sum of the terms in the set.\n",
    "def leibniz_d(n):\n",
    "    terms = set()\n",
    "    for k in range(n):\n",
    "        term = (-1) ** k / (2 * k + 1)\n",
    "        terms.add(term)\n",
    "    return sum(terms)"
   ]
  },
  {
   "cell_type": "code",
   "execution_count": 7,
   "metadata": {
    "id": "QA1qlRuCdXnj"
   },
   "outputs": [],
   "source": [
    "#e. Construct a Python dictionary and compute the sum of the terms in the dictionary.\n",
    "def leibniz_e(n):\n",
    "    terms = {}\n",
    "    for k in range(n):\n",
    "        term = (-1) ** k / (2 * k + 1)\n",
    "        terms[k] = term\n",
    "    return sum(terms.values())"
   ]
  },
  {
   "cell_type": "code",
   "execution_count": 8,
   "metadata": {
    "id": "pMaPBjisdYru"
   },
   "outputs": [],
   "source": [
    "#f. Construct a NumPy array and compute the sum of the terms in the array.\n",
    "def leibniz_f(n):\n",
    "    k_values = np.arange(n)\n",
    "    terms = (-1) ** k_values / (2 * k_values + 1)\n",
    "    return np.sum(terms)"
   ]
  },
  {
   "cell_type": "code",
   "execution_count": null,
   "metadata": {},
   "outputs": [],
   "source": [
    "#####YUHE Update######\n",
    "def leibniz_f(n):\n",
    "    k= np.arange(n)\n",
    "    terms = (-1) ** k / (2 * k + 1)\n",
    "    return np.sum(terms)\n",
    "\n",
    "## As all other function declare k for different n, here I update k_values to k for consistency."
   ]
  },
  {
   "cell_type": "code",
   "execution_count": 9,
   "metadata": {
    "id": "UIQNZZt6dbEV"
   },
   "outputs": [],
   "source": [
    "#g. Construct a NumPy array, use array indexing to compute the sum of the positive terms in the array, use array indexing to compute the sum of the negative terms in the array, and add the two sums together. You can write x[::2] to access the first, third, etc. terms and x[1::2] to access the second, fourth, etc. terms.\n",
    "def leibniz_g(n):\n",
    "    k_values = np.arange(n)\n",
    "    terms = (-1) ** k_values / (2 * k_values + 1)\n",
    "    positive_sum = np.sum(terms[::2])\n",
    "    negative_sum = np.sum(terms[1::2])\n",
    "    return positive_sum + negative_sum"
   ]
  },
  {
   "cell_type": "code",
   "execution_count": null,
   "metadata": {},
   "outputs": [],
   "source": [
    "#####YUHE Update######\n",
    "def leibniz_f(n):\n",
    "    def leibniz_g(n):\n",
    "    k = np.arange(n)\n",
    "    terms = (-1) ** k / (2 * k + 1)\n",
    "    positive_sum = np.sum(terms[::2])\n",
    "    negative_sum = np.sum(terms[1::2])\n",
    "    return positive_sum + negative_sum\n",
    "\n",
    "## As all other function declare k for different n, here I update k_values to k for consistency."
   ]
  },
  {
   "cell_type": "code",
   "execution_count": 10,
   "metadata": {
    "id": "bD7zKHyZdgWl"
   },
   "outputs": [],
   "source": [
    "#j. Combine the first and second terms, the third and fourth terms, etc. to change this series from an alternating to a non-alternating series and compute the sum of the combined terms.\n",
    "def leibniz_j(n):\n",
    "    total = 0.0\n",
    "    for k in range(0, n, 2):\n",
    "        if k + 1 < n:\n",
    "            combined = 1/(2*k+1) - 1/(2*(k+1)+1)\n",
    "            total += combined\n",
    "    return total"
   ]
  },
  {
   "cell_type": "code",
   "execution_count": null,
   "metadata": {},
   "outputs": [],
   "source": [
    "#### YUHE Comment#####\n",
    "# Your J function missed cases with odd n, where the last term cannot be combined.\n",
    "# Examples as below."
   ]
  },
  {
   "cell_type": "code",
   "execution_count": 26,
   "metadata": {},
   "outputs": [
    {
     "name": "stdout",
     "output_type": "stream",
     "text": [
      "0.8666666666666667\n"
     ]
    },
    {
     "data": {
      "text/plain": [
       "0.6666666666666667"
      ]
     },
     "execution_count": 26,
     "metadata": {},
     "output_type": "execute_result"
    }
   ],
   "source": [
    "print(leibniz_a(3))\n",
    "print(leibniz_j(3))"
   ]
  },
  {
   "cell_type": "markdown",
   "metadata": {
    "id": "Ofvhl9UieEvB"
   },
   "source": [
    "Problem 3. Which of these implementations of the Leibniz formula is the most accurate, fastest, and/or clearest? Which function would you use to calculate π (and why)? You can use the. built-in constants math.pi or np.pi for assessing the accuracy of your functions and the time package or the %timeit command for timing."
   ]
  },
  {
   "cell_type": "code",
   "execution_count": 27,
   "metadata": {
    "colab": {
     "base_uri": "https://localhost:8080/"
    },
    "id": "NYPowNq1fDSR",
    "outputId": "b034f0f0-ef89-49fa-aab7-0cb683e9d765"
   },
   "outputs": [
    {
     "name": "stdout",
     "output_type": "stream",
     "text": [
      "Comparison Results:\n",
      "a: Time = 0.081402s, Error = 2.50e-07\n",
      "b: Time = 0.257184s, Error = 2.50e-07\n",
      "c: Time = 0.601507s, Error = 2.50e-07\n",
      "d: Time = 0.388316s, Error = 2.50e-07\n",
      "e: Time = 0.297100s, Error = 2.50e-07\n",
      "f: Time = 0.118227s, Error = 2.50e-07\n",
      "g: Time = 0.013394s, Error = 2.50e-07\n",
      "j: Time = 0.058405s, Error = 2.50e-07\n",
      "\n",
      "Fastest implementation: g (0.013394s)\n"
     ]
    }
   ],
   "source": [
    "def compare_implementations(n=1000000):\n",
    "    reference = np.pi / 4\n",
    "    implementations = {\n",
    "        'a': leibniz_a,\n",
    "        'b': leibniz_b,\n",
    "        'c': leibniz_c,\n",
    "        'd': leibniz_d,\n",
    "        'e': leibniz_e,\n",
    "        'f': leibniz_f,\n",
    "        'g': leibniz_g,\n",
    "        'j': leibniz_j\n",
    "    }\n",
    "    results = {}\n",
    "    for name, func in implementations.items():\n",
    "        start_time = time.time()\n",
    "        result = func(n)\n",
    "        end_time = time.time()\n",
    "        error = abs(result - reference)\n",
    "        results[name] = {\n",
    "            'time': end_time - start_time,\n",
    "            'error': error\n",
    "        }\n",
    "\n",
    "    return results\n",
    "\n",
    "results = compare_implementations(1000000)\n",
    "\n",
    "fastest = min(results.items(), key=lambda x: x[1]['time'])\n",
    "most_accurate = min(results.items(), key=lambda x: x[1]['error'])\n",
    "\n",
    "print(\"Comparison Results:\")\n",
    "for name, data in results.items():\n",
    "    print(f\"{name}: Time = {data['time']:.6f}s, Error = {data['error']:.2e}\")\n",
    "\n",
    "print(f\"\\nFastest implementation: {fastest[0]} ({fastest[1]['time']:.6f}s)\")"
   ]
  },
  {
   "cell_type": "code",
   "execution_count": 28,
   "metadata": {
    "colab": {
     "base_uri": "https://localhost:8080/"
    },
    "id": "IlgHXXoHmKHs",
    "outputId": "0bd1bede-2b26-4526-bd9d-ecf6dbfe0cbe"
   },
   "outputs": [
    {
     "name": "stdout",
     "output_type": "stream",
     "text": [
      "\n",
      "Recommendation:\n",
      "For calculating π using the Leibniz formula, I would use implementation 'f' (NumPy array) because:\n",
      "It is the fastest and clearest implementation (0.072261s for n=1000000) and provides the same accuracy as other implementations (error: 2.50e-07)\n"
     ]
    }
   ],
   "source": [
    "print(\"\\nRecommendation:\")\n",
    "print(\"For calculating π using the Leibniz formula, I would use implementation 'f' (NumPy array) because:\")\n",
    "print(\"It is the fastest and clearest implementation (0.072261s for n=1000000) and provides the same accuracy as other implementations (error: 2.50e-07)\")"
   ]
  },
  {
   "cell_type": "markdown",
   "metadata": {
    "id": "46BAXffTeT2h"
   },
   "source": [
    "Problem 4. Choose your favorite implementation of this formula, and plot the absolute error in the sum as a function of the number of terms in the sum.\n",
    "You should have accurate, informative, and legible labels for both the x-axis and y-axis, and you should use logarithmic axes or take the logarithm of the errors and the numbers of terms so that you can see the sums converge over a wide range of values. By default, most plotting packages generate large plots that are diﬃcult to read in papers and presentations. Use a command like plt.figure(figsize=(2, 2)) to make your plot more legible."
   ]
  },
  {
   "cell_type": "code",
   "execution_count": 29,
   "metadata": {
    "colab": {
     "base_uri": "https://localhost:8080/",
     "height": 207
    },
    "id": "hkYX2jUimqmv",
    "outputId": "6adbc418-8758-416e-ea3c-f7749d367ed4"
   },
   "outputs": [
    {
     "data": {
      "image/png": "[encoded data removed]",
      "text/plain": [
       "<Figure size 200x200 with 1 Axes>"
      ]
     },
     "metadata": {},
     "output_type": "display_data"
    }
   ],
   "source": [
    "def calculate_errors(max_n=100000, num_points=100):\n",
    "    n_values = np.logspace(1, np.log10(max_n), num_points).astype(int)\n",
    "    n_values = np.unique(n_values)\n",
    "    errors = []\n",
    "    for n in n_values:\n",
    "        approx_pi = 4 * leibniz_f(n)\n",
    "        error = abs(approx_pi - math.pi)\n",
    "        errors.append(error)\n",
    "\n",
    "    return n_values, np.array(errors)\n",
    "\n",
    "def plot_error_analysis():\n",
    "    n_values, errors = calculate_errors(max_n=100000, num_points=100)\n",
    "\n",
    "    plt.figure(figsize=(2, 2))\n",
    "\n",
    "    plt.loglog(n_values, errors, 'b-', linewidth=1)\n",
    "\n",
    "    plt.title('Error vs. Terms in Leibniz Formula', fontsize=8)\n",
    "    plt.xlabel('Number of Terms (n)', fontsize=6)\n",
    "    plt.ylabel('Absolute Error', fontsize=6)\n",
    "\n",
    "    plt.tick_params(axis='both', which='major', labelsize=5)\n",
    "    plt.grid(True, which='both', linestyle='--', alpha=0.5, linewidth=0.5)\n",
    "\n",
    "    plt.tight_layout()\n",
    "    plt.show()\n",
    "\n",
    "plot_error_analysis()"
   ]
  },
  {
   "cell_type": "markdown",
   "metadata": {
    "id": "vCd1P4zTecoG"
   },
   "source": [
    "Problem 5. Would you do anything diﬀerently for computing π using the Leibniz formula if you were using MATLAB instead of Python?"
   ]
  },
  {
   "cell_type": "code",
   "execution_count": 30,
   "metadata": {
    "colab": {
     "base_uri": "https://localhost:8080/"
    },
    "id": "l20WiHStn0_n",
    "outputId": "f8ca7fb3-a8b0-4862-b2a4-cca377047087"
   },
   "outputs": [
    {
     "name": "stdout",
     "output_type": "stream",
     "text": [
      "No, the fundamental approach would be identical. While the syntax for creating arrays (`np.arange(n)` vs. `0:n-1`) and for element-wise operations (`**` vs. `.^`) differs, the core, efficient logic remains the same.\n"
     ]
    }
   ],
   "source": [
    "print(\"No, the fundamental approach would be identical. While the syntax for creating arrays (`np.arange(n)` vs. `0:n-1`) and for element-wise operations (`**` vs. `.^`) differs, the core, efficient logic remains the same.\")"
   ]
  }
 ],
 "metadata": {
  "colab": {
   "provenance": []
  },
  "kernelspec": {
   "display_name": "Python 3 (ipykernel)",
   "language": "python",
   "name": "python3"
  },
  "language_info": {
   "codemirror_mode": {
    "name": "ipython",
    "version": 3
   },
   "file_extension": ".py",
   "mimetype": "text/x-python",
   "name": "python",
   "nbconvert_exporter": "python",
   "pygments_lexer": "ipython3",
   "version": "3.9.18"
  }
 },
 "nbformat": 4,
 "nbformat_minor": 4
}
